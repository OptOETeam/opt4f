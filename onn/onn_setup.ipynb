{
 "cells": [
  {
   "cell_type": "code",
   "execution_count": 1,
   "metadata": {},
   "outputs": [],
   "source": [
    "import tensorflow as tf\n",
    "from numpy import *"
   ]
  },
  {
   "cell_type": "code",
   "execution_count": 2,
   "metadata": {},
   "outputs": [],
   "source": [
    "# Performs an fftshift operation on the last two dimensions of a 4-D input tensor\n",
    "def fftshift_tf(data):\n",
    "    \n",
    "    dims = tf.shape(data)\n",
    "    num = dims[3]\n",
    "    shiftAmt = (num - 1) / 2\n",
    "    shiftAmt = tf.cast(shiftAmt, int32)\n",
    "    output = tf.manip.roll(data, shift=shiftAmt, axis=2)\n",
    "    output = tf.manip.roll(output, shift=shiftAmt, axis=3)\n",
    "    \n",
    "    return output"
   ]
  },
  {
   "cell_type": "code",
   "execution_count": 3,
   "metadata": {},
   "outputs": [],
   "source": [
    "# Performs an ifftshift operation on the last two dimensions of a 4-D input tensor\n",
    "def ifftshift_tf(data):\n",
    "    \n",
    "    dims = tf.shape(data)\n",
    "    num = dims[3]\n",
    "    shiftAmt = (num + 1) / 2\n",
    "    shiftAmt = tf.cast(shiftAmt, int32)\n",
    "    output = tf.manip.roll(data, shift=shiftAmt, axis=2)\n",
    "    output = tf.manip.roll(output, shift=shiftAmt, axis=3)\n",
    "    \n",
    "    return output"
   ]
  },
  {
   "cell_type": "code",
   "execution_count": 4,
   "metadata": {},
   "outputs": [],
   "source": [
    "# Generates the phase for a lens based on the focal length variable \"f\". Other referenced variables are global\n",
    "def generate_phase():\n",
    "    \n",
    "    phase = tf.constant(2*pi, tf.float32) / Lambda * (tf.sqrt(tf.square(x_tensor) + tf.square(y_tensor) + tf.square(f)) - f)\n",
    "    phase = tf.cast(phase, tf.complex64)\n",
    "    return phase"
   ]
  },
  {
   "cell_type": "code",
   "execution_count": 5,
   "metadata": {},
   "outputs": [],
   "source": [
    "# Generates the Fourier space propagator based on the focal length variable \"f\". Other referenced variables are global\n",
    "def generate_propagator():\n",
    "    \n",
    "    propagator = tf.exp(1j * k_z * tf.cast(f, tf.complex64))\n",
    "    propagator = ifftshift_tf(propagator)\n",
    "    \n",
    "    return propagator"
   ]
  },
  {
   "cell_type": "code",
   "execution_count": 6,
   "metadata": {},
   "outputs": [],
   "source": [
    "# Propagate an input E-field distribution along the optical axis using the defined propagator\n",
    "def propagate(input_field, propagator):\n",
    "    \n",
    "    # Propagate using tensorflow\n",
    "    output = tf.ifft2d(tf.fft2d(input_field) * propagator)\n",
    "    \n",
    "    return output"
   ]
  },
  {
   "cell_type": "code",
   "execution_count": 7,
   "metadata": {},
   "outputs": [],
   "source": [
    "# Pass an image through a 4f system\n",
    "def simulate_4f_system(input_field, kernel):\n",
    "    \n",
    "    # Calculate the lens phase\n",
    "    lens_phase = generate_phase()\n",
    "    \n",
    "    # Calculate the propagator\n",
    "    propagator = generate_propagator()\n",
    "    \n",
    "    # Propagate up to the first lens\n",
    "    before_L1 = propagate(input_field, propagator)\n",
    "    \n",
    "    # Apply lens1 and propagate to the filter plane\n",
    "    before_kernel = propagate(before_L1 * tf.keras.backend.exp(-1j * lens_phase), propagator)\n",
    "    \n",
    "    # Apply kernel and propagate to the second lens\n",
    "    before_L2 = propagate(before_kernel * kernel, propagator)\n",
    "    \n",
    "    # Apply lens2 and propagate to the output plane\n",
    "    output = propagate(before_L2 * tf.keras.backend.exp(-1j * lens_phase), propagator)\n",
    "    \n",
    "    # Return output of the 4f optical convolution\n",
    "    return output"
   ]
  },
  {
   "cell_type": "code",
   "execution_count": 8,
   "metadata": {},
   "outputs": [],
   "source": [
    "# Perform convolutions with all the kernels\n",
    "\n",
    "def convolve_with_all_kernels(image, kernel): \n",
    "    \n",
    "    # Zero pad the kernels for subsequent Fourier processing    \n",
    "    kernel = tf.concat([kernel, tf.constant(zeros((11, 216, 3, 96)), tf.float32)], axis=1)\n",
    "    kernel = tf.concat([kernel, tf.constant(zeros((216, 227, 3, 96)), tf.float32)], axis=0)\n",
    "    \n",
    "    # Align the kernels for Fourier transforming\n",
    "    kernel = tf.transpose(kernel, perm=[3, 2, 0, 1])\n",
    "    kernel = tf.cast(kernel, tf.complex64)\n",
    "    kernel = tf.fft2d(kernel)\n",
    "    kernel = fftshift_tf(kernel)\n",
    "    \n",
    "    # Add an extra dimension for the batch size and duplicate the kernels to apply equally to all images in the batch\n",
    "    kernel = tf.expand_dims(kernel, axis=0)\n",
    "    kernel = tf.tile(kernel, multiples=tf.constant([batch_size, 1, 1, 1, 1], tf.int32))\n",
    "    \n",
    "    # Add a dimension to the input image tensor to enable convolution with all 96 first layer kernels\n",
    "    image = tf.expand_dims(image, axis=1)\n",
    "    image = tf.transpose(image, perm=[0, 1, 4, 2, 3])\n",
    "    image = tf.tile(image, multiples=tf.constant([1, 96, 1, 1, 1], tf.int32))\n",
    "    \n",
    "    # Simulate the 4f system output for all 96 kernels for all color channels and sum the channel outputs\n",
    "    output = tf.reduce_sum(tf.abs(simulate_4f_system(image, kernel)) ** 2, axis=2)\n",
    "    \n",
    "    # Transpose and flip the output for display purposes\n",
    "    output = tf.transpose(output, perm=[0, 2, 3, 1])\n",
    "    output = tf.image.flip_left_right(output)\n",
    "    output = tf.image.flip_up_down(output)\n",
    "     \n",
    "    # Convert to float format\n",
    "    output = tf.cast(output, tf.float32)\n",
    "    \n",
    "    # Return the output\n",
    "    return output"
   ]
  },
  {
   "cell_type": "code",
   "execution_count": 10,
   "metadata": {},
   "outputs": [],
   "source": [
    "# Define parameters\n",
    "period = 0.25E-5 # Set the quasi-period, a hyperparameter which fixes the system's width and the pixel size\n",
    "f = tf.Variable(0.3E-2, tf.float32) # Set the focal length a training variable\n",
    "multiplier = 1 # Needs to be an odd number\n",
    "width_pixels = multiplier * 227 # Width of the image in pixels\n",
    "n_sub = (int) ((width_pixels + 1) / 2)\n",
    "A = n_sub * period # Set the metasurface radius\n",
    "n = (int) (2 * n_sub - 1) # Number of pixels along one dimension (full image is nxn)\n",
    "\n",
    "# Define the spatial grid\n",
    "xlist_pos = linspace(0, n_sub * period, n_sub)\n",
    "front = xlist_pos[-(n_sub - 1):]\n",
    "front = -front[::-1]\n",
    "xlist = hstack((front, xlist_pos))\n",
    "n = len(xlist);\n",
    "xx = kron(xlist, ones((n, 1)))\n",
    "yy = xx.T\n",
    "xx = expand_dims(xx, axis=0)\n",
    "xx = expand_dims(xx, axis=0)\n",
    "xx = tile(xx, (96, 3, 1, 1))\n",
    "yy = expand_dims(yy, axis=0)\n",
    "yy = expand_dims(yy, axis=0)\n",
    "yy = tile(yy, (96, 3, 1, 1))\n",
    "x_tensor = tf.constant(xx, tf.float32)\n",
    "y_tensor = tf.constant(yy, tf.float32)\n",
    "\n",
    "# Define a constant wavelength tensor\n",
    "Lambdas = [633E-9, 532E-9, 442E-9] # Set the wavelengths\n",
    "channel = ones((96, 1, 227, 227))\n",
    "Lambda = concatenate((Lambdas[0] * channel, Lambdas[1] * channel, Lambdas[2] * channel), axis=1)\n",
    "\n",
    "# Define the reciprocal space cartesian grid   \n",
    "k_xlist_pos = 2 * pi * linspace(0, 0.5 * n / (2 * A), n_sub)  \n",
    "front = k_xlist_pos[-(n_sub - 1):]\n",
    "front = -front[::-1]\n",
    "k_xlist = hstack((front, k_xlist_pos))\n",
    "k_x = kron(k_xlist, ones((n, 1)))\n",
    "k_y = k_x.T\n",
    "\n",
    "# Calculate the constant k_z tensor for subsequent propagator calculations\n",
    "k_z_values = zeros((96, 3, n, n)) + 0j\n",
    "for i in range(0, 3):\n",
    "    k = 2 * pi / Lambdas[i]\n",
    "    k_z_values[:, i, :, :] = sqrt(k ** 2 - k_x ** 2 - k_y ** 2 + 0j) # Add 0j to allow numpy to take square root of negative numbers\n",
    "\n",
    "k_z = tf.constant(k_z_values, tf.complex64) "
   ]
  },
  {
   "cell_type": "code",
   "execution_count": 11,
   "metadata": {},
   "outputs": [],
   "source": [
    "save('xx', xx)\n",
    "save('yy', yy)\n",
    "save('Lambda', Lambda)\n",
    "save('k_z_values', k_z_values)"
   ]
  },
  {
   "cell_type": "code",
   "execution_count": null,
   "metadata": {},
   "outputs": [],
   "source": []
  }
 ],
 "metadata": {
  "kernelspec": {
   "display_name": "Python 3",
   "language": "python",
   "name": "python3"
  },
  "language_info": {
   "codemirror_mode": {
    "name": "ipython",
    "version": 3
   },
   "file_extension": ".py",
   "mimetype": "text/x-python",
   "name": "python",
   "nbconvert_exporter": "python",
   "pygments_lexer": "ipython3",
   "version": "3.6.4"
  }
 },
 "nbformat": 4,
 "nbformat_minor": 2
}
